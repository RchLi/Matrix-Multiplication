{
 "cells": [
  {
   "cell_type": "code",
   "execution_count": 1,
   "id": "d80553ec",
   "metadata": {},
   "outputs": [
    {
     "ename": "SyntaxError",
     "evalue": "invalid syntax (<ipython-input-1-038150311aab>, line 7)",
     "output_type": "error",
     "traceback": [
      "\u001b[0;36m  File \u001b[0;32m\"<ipython-input-1-038150311aab>\"\u001b[0;36m, line \u001b[0;32m7\u001b[0m\n\u001b[0;31m    y_4_12 = [0.108, .84, 5.78, 15.9, 21.3, 21.9, 19.7, 23.5, 21.7, 20.4, 22.5 22.6]\u001b[0m\n\u001b[0m                                                                               ^\u001b[0m\n\u001b[0;31mSyntaxError\u001b[0m\u001b[0;31m:\u001b[0m invalid syntax\n"
     ]
    }
   ],
   "source": [
    "import numpy as np\n",
    "import matplotlib.pyplot as plt\n",
    "\n",
    "x = [32, 64, 128, 256, 511, 512, 513, 1023, 1024, 1025, 2047, 2048]\n",
    "y_naive = [2.1, 1.83, 1.87, 0.882, 1.68, 0.867, 1.69, 1.2, 0.146, 1.13, 0.51, 1.1]\n",
    "y_4_8 = [0.106, .83, 5.62, 15.2, 20.9, 20.9, 18.4, 22.4, 20.9, 20, 20.1, 21.5] \n",
    "y_4_12 = [0.108, .84, 5.78, 15.9, 21.3, 21.9, 19.7, 23.5, 21.7, 20.4, 22.5, 22.6]\n",
    "y_blas = [17.6, 24, 28.5, 32.6, 33, 34.4, 32.5, 34.4, 34.9, 29.8, 35.1, 35.1]\n",
    "plt.figure(figsize=(9,6))\n",
    "plt.plot(x, y_naive, 'gx-.', label = 'Naive Implementation')\n",
    "plt.plot(x, y_4_8, 'r-*', label = '4*8 Kernel')\n",
    "plt.plot(x, y_4_12, 'o-*', label = '4*12 Kernel')\n",
    "plt.plot(x, y_blas, 'bo-.', label = 'Benchmark')\n",
    "plt.legend()\n",
    "plt.grid()\n",
    "plt.ylim(0, 50)\n",
    "plt.xlabel('Matrix Size')\n",
    "plt.ylabel('GFlops')"
   ]
  },
  {
   "cell_type": "code",
   "execution_count": 18,
   "id": "2a73e923-7ad9-4ad5-a088-379c7bba1b57",
   "metadata": {},
   "outputs": [
    {
     "data": {
      "text/plain": [
       "12"
      ]
     },
     "execution_count": 18,
     "metadata": {},
     "output_type": "execute_result"
    }
   ],
   "source": [
    "len(x)"
   ]
  },
  {
   "cell_type": "code",
   "execution_count": 19,
   "id": "0115617d-dd18-429c-ad2a-dd89175f8d2f",
   "metadata": {},
   "outputs": [
    {
     "data": {
      "text/plain": [
       "12"
      ]
     },
     "execution_count": 19,
     "metadata": {},
     "output_type": "execute_result"
    }
   ],
   "source": [
    "len(y_naive)"
   ]
  }
 ],
 "metadata": {
  "kernelspec": {
   "display_name": "Python 3",
   "language": "python",
   "name": "python3"
  },
  "language_info": {
   "codemirror_mode": {
    "name": "ipython",
    "version": 3
   },
   "file_extension": ".py",
   "mimetype": "text/x-python",
   "name": "python",
   "nbconvert_exporter": "python",
   "pygments_lexer": "ipython3",
   "version": "3.9.6"
  },
  "toc": {
   "base_numbering": 1,
   "nav_menu": {},
   "number_sections": true,
   "sideBar": true,
   "skip_h1_title": false,
   "title_cell": "Table of Contents",
   "title_sidebar": "Contents",
   "toc_cell": false,
   "toc_position": {},
   "toc_section_display": true,
   "toc_window_display": false
  }
 },
 "nbformat": 4,
 "nbformat_minor": 5
}
